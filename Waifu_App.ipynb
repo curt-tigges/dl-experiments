{
  "nbformat": 4,
  "nbformat_minor": 0,
  "metadata": {
    "colab": {
      "name": "Waifu_App.ipynb",
      "provenance": [],
      "authorship_tag": "ABX9TyPQW9qQKomxad4G6f5ZItUH",
      "include_colab_link": true
    },
    "kernelspec": {
      "name": "python3",
      "display_name": "Python 3"
    },
    "language_info": {
      "name": "python"
    }
  },
  "cells": [
    {
      "cell_type": "markdown",
      "metadata": {
        "id": "view-in-github",
        "colab_type": "text"
      },
      "source": [
        "<a href=\"https://colab.research.google.com/github/curt-tigges/dl-experiments/blob/main/Waifu_App.ipynb\" target=\"_parent\"><img src=\"https://colab.research.google.com/assets/colab-badge.svg\" alt=\"Open In Colab\"/></a>"
      ]
    },
    {
      "cell_type": "code",
      "source": [
        "from fastai.vision import *\n",
        "from fastai.imports import *\n",
        "from fastai.learner import *\n",
        "from fastai.vision.core import *\n",
        "from fastai.vision.widgets import *"
      ],
      "metadata": {
        "id": "ouCMzr8Y0TLt"
      },
      "execution_count": null,
      "outputs": []
    },
    {
      "cell_type": "code",
      "source": [
        "#path = Path()\n",
        "#create widgets\n",
        "learn_inf = load_learner('export.pkl')\n",
        "btn_upload = widgets.FileUpload()\n",
        "out_pl = widgets.Output()\n",
        "lbl_pred = widgets.Label()"
      ],
      "metadata": {
        "id": "N1xT4Xz30VN-"
      },
      "execution_count": null,
      "outputs": []
    },
    {
      "cell_type": "code",
      "source": [
        "def on_click_classify(change):\n",
        "    img = PILImage.create(btn_upload.data[-1])\n",
        "    out_pl.clear_output()\n",
        "    with out_pl: display(img.to_thumb(128,128))\n",
        "    pred,pred_idx,probs = learn_inf.predict(img)\n",
        "    lbl_pred.value = f'Prediction: {pred}; Probability: {probs[pred_idx]:.04f}'"
      ],
      "metadata": {
        "id": "qW3-0hx_03x6"
      },
      "execution_count": null,
      "outputs": []
    },
    {
      "cell_type": "code",
      "source": [
        "btn_run = widgets.Button(description='Classify')\n",
        "btn_run.on_click(on_click_classify)"
      ],
      "metadata": {
        "id": "ppTufqKZ0ZSV"
      },
      "execution_count": null,
      "outputs": []
    },
    {
      "cell_type": "code",
      "source": [
        "VBox([widgets.Label('Upload your image!'), btn_upload, btn_run, out_pl, lbl_pred])"
      ],
      "metadata": {
        "id": "4lkBt4YR1uib"
      },
      "execution_count": null,
      "outputs": []
    }
  ]
}