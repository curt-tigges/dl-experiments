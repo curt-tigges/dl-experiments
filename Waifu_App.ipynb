{
  "nbformat": 4,
  "nbformat_minor": 0,
  "metadata": {
    "colab": {
      "name": "Waifu_App.ipynb",
      "provenance": [],
      "authorship_tag": "ABX9TyOpoIizC1g0/io4BGCFL1pH",
      "include_colab_link": true
    },
    "kernelspec": {
      "name": "python3",
      "display_name": "Python 3"
    },
    "language_info": {
      "name": "python"
    },
    "widgets": {
      "application/vnd.jupyter.widget-state+json": {
        "82865966e02141a2899c6c185c164ab9": {
          "model_module": "@jupyter-widgets/controls",
          "model_name": "VBoxModel",
          "model_module_version": "1.5.0",
          "state": {
            "_view_name": "VBoxView",
            "_dom_classes": [],
            "_model_name": "VBoxModel",
            "_view_module": "@jupyter-widgets/controls",
            "_model_module_version": "1.5.0",
            "_view_count": null,
            "_view_module_version": "1.5.0",
            "box_style": "",
            "layout": "IPY_MODEL_0bb9af8ed8ac4990aa1fa5a5d83d8cc7",
            "_model_module": "@jupyter-widgets/controls",
            "children": [
              "IPY_MODEL_18f7073595d247efa99c088c134446c5",
              "IPY_MODEL_807f578fb15f445a82d7fcd37ee97ac4",
              "IPY_MODEL_41ce9e6381454cefa7dd0d5c09d91956",
              "IPY_MODEL_5c45655b357a4a448519dc89eefeefca"
            ]
          }
        },
        "0bb9af8ed8ac4990aa1fa5a5d83d8cc7": {
          "model_module": "@jupyter-widgets/base",
          "model_name": "LayoutModel",
          "model_module_version": "1.2.0",
          "state": {
            "_view_name": "LayoutView",
            "grid_template_rows": null,
            "right": null,
            "justify_content": null,
            "_view_module": "@jupyter-widgets/base",
            "overflow": null,
            "_model_module_version": "1.2.0",
            "_view_count": null,
            "flex_flow": null,
            "width": null,
            "min_width": null,
            "border": null,
            "align_items": null,
            "bottom": null,
            "_model_module": "@jupyter-widgets/base",
            "top": null,
            "grid_column": null,
            "overflow_y": null,
            "overflow_x": null,
            "grid_auto_flow": null,
            "grid_area": null,
            "grid_template_columns": null,
            "flex": null,
            "_model_name": "LayoutModel",
            "justify_items": null,
            "grid_row": null,
            "max_height": null,
            "align_content": null,
            "visibility": null,
            "align_self": null,
            "height": null,
            "min_height": null,
            "padding": null,
            "grid_auto_rows": null,
            "grid_gap": null,
            "max_width": null,
            "order": null,
            "_view_module_version": "1.2.0",
            "grid_template_areas": null,
            "object_position": null,
            "object_fit": null,
            "grid_auto_columns": null,
            "margin": null,
            "display": null,
            "left": null
          }
        },
        "18f7073595d247efa99c088c134446c5": {
          "model_module": "@jupyter-widgets/controls",
          "model_name": "LabelModel",
          "model_module_version": "1.5.0",
          "state": {
            "_view_name": "LabelView",
            "style": "IPY_MODEL_33f39da3f3d742dab30f0c1b6341ed87",
            "_dom_classes": [],
            "description": "",
            "_model_name": "LabelModel",
            "placeholder": "​",
            "_view_module": "@jupyter-widgets/controls",
            "_model_module_version": "1.5.0",
            "value": "Upload your image!",
            "_view_count": null,
            "_view_module_version": "1.5.0",
            "description_tooltip": null,
            "_model_module": "@jupyter-widgets/controls",
            "layout": "IPY_MODEL_ac00831eb5e249a495bc4d4bbad35fef"
          }
        },
        "807f578fb15f445a82d7fcd37ee97ac4": {
          "model_module": "@jupyter-widgets/controls",
          "model_name": "FileUploadModel",
          "model_module_version": "1.5.0",
          "state": {
            "_view_name": "FileUploadView",
            "_counter": 1,
            "style": "IPY_MODEL_8ba670a38724494a8938c3656dea3dbd",
            "_dom_classes": [],
            "description": "Upload",
            "multiple": false,
            "_model_name": "FileUploadModel",
            "data": [
              null
            ],
            "button_style": "",
            "_view_module": "@jupyter-widgets/controls",
            "_model_module_version": "1.5.0",
            "accept": "",
            "_view_count": null,
            "disabled": false,
            "_view_module_version": "1.5.0",
            "error": "",
            "description_tooltip": null,
            "metadata": [
              {
                "name": "aB2OeeA_460s.jpg",
                "type": "image/jpeg",
                "size": 41482,
                "lastModified": 1641590414707
              }
            ],
            "_model_module": "@jupyter-widgets/controls",
            "layout": "IPY_MODEL_720cbb6f89b441ff95af1ca5acbd34a4",
            "icon": "upload"
          }
        },
        "41ce9e6381454cefa7dd0d5c09d91956": {
          "model_module": "@jupyter-widgets/output",
          "model_name": "OutputModel",
          "model_module_version": "1.0.0",
          "state": {
            "_view_name": "OutputView",
            "msg_id": "",
            "_dom_classes": [],
            "_model_name": "OutputModel",
            "outputs": [
              {
                "output_type": "display_data",
                "data": {
                  "image/png": "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\n",
                  "text/plain": "<PIL.Image.Image image mode=RGB size=91x128 at 0x7F0EFD31A2D0>"
                },
                "metadata": {}
              }
            ],
            "_view_module": "@jupyter-widgets/output",
            "_model_module_version": "1.0.0",
            "_view_count": null,
            "_view_module_version": "1.0.0",
            "layout": "IPY_MODEL_a57ab0c118af4a36abd45c85c345a382",
            "_model_module": "@jupyter-widgets/output"
          }
        },
        "5c45655b357a4a448519dc89eefeefca": {
          "model_module": "@jupyter-widgets/controls",
          "model_name": "LabelModel",
          "model_module_version": "1.5.0",
          "state": {
            "_view_name": "LabelView",
            "style": "IPY_MODEL_3f6fb34630bf49a48cd7d26041da4370",
            "_dom_classes": [],
            "description": "",
            "_model_name": "LabelModel",
            "placeholder": "​",
            "_view_module": "@jupyter-widgets/controls",
            "_model_module_version": "1.5.0",
            "value": "Prediction: mai sakurajima; Probability: 0.8863",
            "_view_count": null,
            "_view_module_version": "1.5.0",
            "description_tooltip": null,
            "_model_module": "@jupyter-widgets/controls",
            "layout": "IPY_MODEL_4930bc455e024d218ef65d10e8589bf1"
          }
        },
        "33f39da3f3d742dab30f0c1b6341ed87": {
          "model_module": "@jupyter-widgets/controls",
          "model_name": "DescriptionStyleModel",
          "model_module_version": "1.5.0",
          "state": {
            "_view_name": "StyleView",
            "_model_name": "DescriptionStyleModel",
            "description_width": "",
            "_view_module": "@jupyter-widgets/base",
            "_model_module_version": "1.5.0",
            "_view_count": null,
            "_view_module_version": "1.2.0",
            "_model_module": "@jupyter-widgets/controls"
          }
        },
        "ac00831eb5e249a495bc4d4bbad35fef": {
          "model_module": "@jupyter-widgets/base",
          "model_name": "LayoutModel",
          "model_module_version": "1.2.0",
          "state": {
            "_view_name": "LayoutView",
            "grid_template_rows": null,
            "right": null,
            "justify_content": null,
            "_view_module": "@jupyter-widgets/base",
            "overflow": null,
            "_model_module_version": "1.2.0",
            "_view_count": null,
            "flex_flow": null,
            "width": null,
            "min_width": null,
            "border": null,
            "align_items": null,
            "bottom": null,
            "_model_module": "@jupyter-widgets/base",
            "top": null,
            "grid_column": null,
            "overflow_y": null,
            "overflow_x": null,
            "grid_auto_flow": null,
            "grid_area": null,
            "grid_template_columns": null,
            "flex": null,
            "_model_name": "LayoutModel",
            "justify_items": null,
            "grid_row": null,
            "max_height": null,
            "align_content": null,
            "visibility": null,
            "align_self": null,
            "height": null,
            "min_height": null,
            "padding": null,
            "grid_auto_rows": null,
            "grid_gap": null,
            "max_width": null,
            "order": null,
            "_view_module_version": "1.2.0",
            "grid_template_areas": null,
            "object_position": null,
            "object_fit": null,
            "grid_auto_columns": null,
            "margin": null,
            "display": null,
            "left": null
          }
        },
        "8ba670a38724494a8938c3656dea3dbd": {
          "model_module": "@jupyter-widgets/controls",
          "model_name": "ButtonStyleModel",
          "model_module_version": "1.5.0",
          "state": {
            "_view_name": "StyleView",
            "_model_name": "ButtonStyleModel",
            "_view_module": "@jupyter-widgets/base",
            "_model_module_version": "1.5.0",
            "_view_count": null,
            "button_color": null,
            "font_weight": "",
            "_view_module_version": "1.2.0",
            "_model_module": "@jupyter-widgets/controls"
          }
        },
        "720cbb6f89b441ff95af1ca5acbd34a4": {
          "model_module": "@jupyter-widgets/base",
          "model_name": "LayoutModel",
          "model_module_version": "1.2.0",
          "state": {
            "_view_name": "LayoutView",
            "grid_template_rows": null,
            "right": null,
            "justify_content": null,
            "_view_module": "@jupyter-widgets/base",
            "overflow": null,
            "_model_module_version": "1.2.0",
            "_view_count": null,
            "flex_flow": null,
            "width": null,
            "min_width": null,
            "border": null,
            "align_items": null,
            "bottom": null,
            "_model_module": "@jupyter-widgets/base",
            "top": null,
            "grid_column": null,
            "overflow_y": null,
            "overflow_x": null,
            "grid_auto_flow": null,
            "grid_area": null,
            "grid_template_columns": null,
            "flex": null,
            "_model_name": "LayoutModel",
            "justify_items": null,
            "grid_row": null,
            "max_height": null,
            "align_content": null,
            "visibility": null,
            "align_self": null,
            "height": null,
            "min_height": null,
            "padding": null,
            "grid_auto_rows": null,
            "grid_gap": null,
            "max_width": null,
            "order": null,
            "_view_module_version": "1.2.0",
            "grid_template_areas": null,
            "object_position": null,
            "object_fit": null,
            "grid_auto_columns": null,
            "margin": null,
            "display": null,
            "left": null
          }
        },
        "3f6fb34630bf49a48cd7d26041da4370": {
          "model_module": "@jupyter-widgets/controls",
          "model_name": "DescriptionStyleModel",
          "model_module_version": "1.5.0",
          "state": {
            "_view_name": "StyleView",
            "_model_name": "DescriptionStyleModel",
            "description_width": "",
            "_view_module": "@jupyter-widgets/base",
            "_model_module_version": "1.5.0",
            "_view_count": null,
            "_view_module_version": "1.2.0",
            "_model_module": "@jupyter-widgets/controls"
          }
        },
        "4930bc455e024d218ef65d10e8589bf1": {
          "model_module": "@jupyter-widgets/base",
          "model_name": "LayoutModel",
          "model_module_version": "1.2.0",
          "state": {
            "_view_name": "LayoutView",
            "grid_template_rows": null,
            "right": null,
            "justify_content": null,
            "_view_module": "@jupyter-widgets/base",
            "overflow": null,
            "_model_module_version": "1.2.0",
            "_view_count": null,
            "flex_flow": null,
            "width": null,
            "min_width": null,
            "border": null,
            "align_items": null,
            "bottom": null,
            "_model_module": "@jupyter-widgets/base",
            "top": null,
            "grid_column": null,
            "overflow_y": null,
            "overflow_x": null,
            "grid_auto_flow": null,
            "grid_area": null,
            "grid_template_columns": null,
            "flex": null,
            "_model_name": "LayoutModel",
            "justify_items": null,
            "grid_row": null,
            "max_height": null,
            "align_content": null,
            "visibility": null,
            "align_self": null,
            "height": null,
            "min_height": null,
            "padding": null,
            "grid_auto_rows": null,
            "grid_gap": null,
            "max_width": null,
            "order": null,
            "_view_module_version": "1.2.0",
            "grid_template_areas": null,
            "object_position": null,
            "object_fit": null,
            "grid_auto_columns": null,
            "margin": null,
            "display": null,
            "left": null
          }
        },
        "a57ab0c118af4a36abd45c85c345a382": {
          "model_module": "@jupyter-widgets/base",
          "model_name": "LayoutModel",
          "model_module_version": "1.2.0",
          "state": {
            "_view_name": "LayoutView",
            "grid_template_rows": null,
            "right": null,
            "justify_content": null,
            "_view_module": "@jupyter-widgets/base",
            "overflow": null,
            "_model_module_version": "1.2.0",
            "_view_count": null,
            "flex_flow": null,
            "width": null,
            "min_width": null,
            "border": null,
            "align_items": null,
            "bottom": null,
            "_model_module": "@jupyter-widgets/base",
            "top": null,
            "grid_column": null,
            "overflow_y": null,
            "overflow_x": null,
            "grid_auto_flow": null,
            "grid_area": null,
            "grid_template_columns": null,
            "flex": null,
            "_model_name": "LayoutModel",
            "justify_items": null,
            "grid_row": null,
            "max_height": null,
            "align_content": null,
            "visibility": null,
            "align_self": null,
            "height": null,
            "min_height": null,
            "padding": null,
            "grid_auto_rows": null,
            "grid_gap": null,
            "max_width": null,
            "order": null,
            "_view_module_version": "1.2.0",
            "grid_template_areas": null,
            "object_position": null,
            "object_fit": null,
            "grid_auto_columns": null,
            "margin": null,
            "display": null,
            "left": null
          }
        }
      }
    }
  },
  "cells": [
    {
      "cell_type": "markdown",
      "metadata": {
        "id": "view-in-github",
        "colab_type": "text"
      },
      "source": [
        "<a href=\"https://colab.research.google.com/github/curt-tigges/dl-experiments/blob/main/Waifu_App.ipynb\" target=\"_parent\"><img src=\"https://colab.research.google.com/assets/colab-badge.svg\" alt=\"Open In Colab\"/></a>"
      ]
    },
    {
      "cell_type": "code",
      "source": [
        "from fastai.vision import *\n",
        "from fastai.imports import *\n",
        "from fastai.learner import *\n",
        "from fastai.vision.core import *\n",
        "from fastai.vision.widgets import *"
      ],
      "metadata": {
        "id": "ouCMzr8Y0TLt"
      },
      "execution_count": 8,
      "outputs": []
    },
    {
      "cell_type": "code",
      "source": [
        "path = Path()\n",
        "learn_inf = load_learner(path/'export.pkl')\n",
        "btn_upload = widgets.FileUpload()\n",
        "out_pl = widgets.Output()\n",
        "lbl_pred = widgets.Label()"
      ],
      "metadata": {
        "id": "N1xT4Xz30VN-"
      },
      "execution_count": 3,
      "outputs": []
    },
    {
      "cell_type": "code",
      "source": [
        "def on_click_classify(change):\n",
        "    img = PILImage.create(btn_upload.data[-1])\n",
        "    out_pl.clear_output()\n",
        "    with out_pl: display(img.to_thumb(128,128))\n",
        "    pred,pred_idx,probs = learn_inf.predict(img)\n",
        "    lbl_pred.value = f'Prediction: {pred}; Probability: {probs[pred_idx]:.04f}'"
      ],
      "metadata": {
        "id": "qW3-0hx_03x6"
      },
      "execution_count": 4,
      "outputs": []
    },
    {
      "cell_type": "code",
      "source": [
        "btn_upload.observe(on_click_classify, names=['data'])"
      ],
      "metadata": {
        "id": "ppTufqKZ0ZSV"
      },
      "execution_count": 6,
      "outputs": []
    },
    {
      "cell_type": "code",
      "source": [
        "display(VBox([widgets.Label('Upload your image!'), btn_upload, out_pl, lbl_pred]))"
      ],
      "metadata": {
        "colab": {
          "base_uri": "https://localhost:8080/",
          "height": 241,
          "referenced_widgets": [
            "82865966e02141a2899c6c185c164ab9",
            "0bb9af8ed8ac4990aa1fa5a5d83d8cc7",
            "18f7073595d247efa99c088c134446c5",
            "807f578fb15f445a82d7fcd37ee97ac4",
            "41ce9e6381454cefa7dd0d5c09d91956",
            "5c45655b357a4a448519dc89eefeefca",
            "33f39da3f3d742dab30f0c1b6341ed87",
            "ac00831eb5e249a495bc4d4bbad35fef",
            "8ba670a38724494a8938c3656dea3dbd",
            "720cbb6f89b441ff95af1ca5acbd34a4",
            "3f6fb34630bf49a48cd7d26041da4370",
            "4930bc455e024d218ef65d10e8589bf1",
            "a57ab0c118af4a36abd45c85c345a382"
          ]
        },
        "id": "4lkBt4YR1uib",
        "outputId": "2fd2ca20-9bc7-465d-cd92-974ecd637f1d"
      },
      "execution_count": 7,
      "outputs": [
        {
          "output_type": "display_data",
          "data": {
            "application/vnd.jupyter.widget-view+json": {
              "model_id": "82865966e02141a2899c6c185c164ab9",
              "version_minor": 0,
              "version_major": 2
            },
            "text/plain": [
              "VBox(children=(Label(value='Upload your image!'), FileUpload(value={}, description='Upload'), Output(), Label(…"
            ]
          },
          "metadata": {}
        },
        {
          "output_type": "display_data",
          "data": {
            "text/html": [
              ""
            ],
            "text/plain": [
              "<IPython.core.display.HTML object>"
            ]
          },
          "metadata": {}
        }
      ]
    }
  ]
}